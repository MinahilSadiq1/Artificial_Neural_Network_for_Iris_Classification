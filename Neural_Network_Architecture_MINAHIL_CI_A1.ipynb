{
  "nbformat": 4,
  "nbformat_minor": 0,
  "metadata": {
    "colab": {
      "provenance": [],
      "include_colab_link": true
    },
    "kernelspec": {
      "name": "python3",
      "display_name": "Python 3"
    },
    "language_info": {
      "name": "python"
    }
  },
  "cells": [
    {
      "cell_type": "markdown",
      "metadata": {
        "id": "view-in-github",
        "colab_type": "text"
      },
      "source": [
        "<a href=\"https://colab.research.google.com/github/MinahilSadiq1/Artificial_Neural_Network_for_Iris_Dataset/blob/main/Neural_Network_Architecture_MINAHIL_CI_A1.ipynb\" target=\"_parent\"><img src=\"https://colab.research.google.com/assets/colab-badge.svg\" alt=\"Open In Colab\"/></a>"
      ]
    },
    {
      "cell_type": "markdown",
      "source": [
        "# **Importing Libraries and Dataset**"
      ],
      "metadata": {
        "id": "WTwGs5Wkwr9W"
      }
    },
    {
      "cell_type": "code",
      "execution_count": null,
      "metadata": {
        "id": "RhcB7LKRX4fw"
      },
      "outputs": [],
      "source": [
        "import numpy as np\n",
        "from keras.models import Sequential\n",
        "from keras.layers import Dense\n",
        "from keras.utils import to_categorical\n",
        "from sklearn.datasets import load_iris\n",
        "from sklearn.model_selection import train_test_split"
      ]
    },
    {
      "cell_type": "code",
      "source": [
        "#loading dataset\n",
        "iris = load_iris()"
      ],
      "metadata": {
        "id": "4Py1VGlHYVuX"
      },
      "execution_count": null,
      "outputs": []
    },
    {
      "cell_type": "code",
      "source": [
        "#showing records\n",
        "from IPython.display import HTML, display\n",
        "display(iris)"
      ],
      "metadata": {
        "id": "cJf9_fRUYqfP"
      },
      "execution_count": null,
      "outputs": []
    },
    {
      "cell_type": "code",
      "source": [
        "#splitting data into input and output\n",
        "X = iris.data\n",
        "y = iris.target"
      ],
      "metadata": {
        "id": "rjRoJrmuYZ64"
      },
      "execution_count": null,
      "outputs": []
    },
    {
      "cell_type": "markdown",
      "source": [
        "# **Training and Testing Split**"
      ],
      "metadata": {
        "id": "a6t9Q0qGw5iH"
      }
    },
    {
      "cell_type": "code",
      "source": [
        "# split the dataset into training and testing sets with the ratio of 70/30\n",
        "X_train, X_test, y_train, y_test = train_test_split(X, y, test_size=0.3)"
      ],
      "metadata": {
        "id": "eHAHGMSqYeWm"
      },
      "execution_count": null,
      "outputs": []
    },
    {
      "cell_type": "code",
      "source": [
        "# convert the target variable to categorical format\n",
        "y_train = to_categorical(y_train)\n",
        "y_test = to_categorical(y_test)"
      ],
      "metadata": {
        "id": "EKMBMIxZYjB5"
      },
      "execution_count": null,
      "outputs": []
    },
    {
      "cell_type": "markdown",
      "source": [
        "# **NEURAL NETWORK ARCHITECTURE with SIGMOID**"
      ],
      "metadata": {
        "id": "vd2GoHhFxBqa"
      }
    },
    {
      "cell_type": "code",
      "source": [
        "#using Relu,sigmoid Activation function defining neural network architecture\n",
        "model = Sequential()\n",
        "model.add(Dense(10, input_dim=4, activation='relu'))\n",
        "model.add(Dense(8, activation='sigmoid'))\n",
        "model.add(Dense(3, activation='softmax'))"
      ],
      "metadata": {
        "id": "Mzu0rZj4YmsN"
      },
      "execution_count": null,
      "outputs": []
    },
    {
      "cell_type": "code",
      "source": [
        "# compiling the model\n",
        "model.compile(loss='categorical_crossentropy', optimizer='adam', metrics=['accuracy'])\n",
        "# training the model\n",
        "model.fit(X_train, y_train, epochs=50, batch_size=10)\n",
        "# evaluating the model\n",
        "loss, accuracy = model.evaluate(X_test, y_test)"
      ],
      "metadata": {
        "id": "BunVXscUaLZs"
      },
      "execution_count": null,
      "outputs": []
    },
    {
      "cell_type": "code",
      "source": [
        "# print the accuracy\n",
        "print('Accuracy:', accuracy)"
      ],
      "metadata": {
        "colab": {
          "base_uri": "https://localhost:8080/"
        },
        "id": "Dp9B_oCRvSHi",
        "outputId": "045500fd-e602-424a-b248-1d5b9adb25b7"
      },
      "execution_count": null,
      "outputs": [
        {
          "output_type": "stream",
          "name": "stdout",
          "text": [
            "Accuracy: 0.644444465637207\n"
          ]
        }
      ]
    },
    {
      "cell_type": "markdown",
      "source": [
        "# **NEURAL NETWORK ARCHITECTURE with TANH**"
      ],
      "metadata": {
        "id": "C8LENCvoxZ3P"
      }
    },
    {
      "cell_type": "code",
      "source": [
        "#using Relu,tanh Activation function defining neural network architecture\n",
        "model = Sequential()\n",
        "model.add(Dense(10, input_dim=4, activation='relu'))\n",
        "model.add(Dense(8, activation='tanh'))\n",
        "model.add(Dense(3, activation='softmax'))"
      ],
      "metadata": {
        "id": "IfgbfEfTvjK_"
      },
      "execution_count": null,
      "outputs": []
    },
    {
      "cell_type": "code",
      "source": [
        "# compiling the model\n",
        "model.compile(loss='categorical_crossentropy', optimizer='adam', metrics=['accuracy'])\n",
        "# training the model\n",
        "model.fit(X_train, y_train, epochs=50, batch_size=10)\n",
        "# evaluating the model\n",
        "loss, accuracy1 = model.evaluate(X_test, y_test)"
      ],
      "metadata": {
        "id": "8bgC4WKPv74a"
      },
      "execution_count": null,
      "outputs": []
    },
    {
      "cell_type": "code",
      "source": [
        "# print the accuracy\n",
        "print('Accuracy: ', accuracy1)"
      ],
      "metadata": {
        "colab": {
          "base_uri": "https://localhost:8080/"
        },
        "id": "JzxkHQbkwCRy",
        "outputId": "e2e2be48-2a54-4341-e823-510af2c21e04"
      },
      "execution_count": null,
      "outputs": [
        {
          "output_type": "stream",
          "name": "stdout",
          "text": [
            "Accuracy:  0.9777777791023254\n"
          ]
        }
      ]
    },
    {
      "cell_type": "markdown",
      "source": [
        "# **NEURAL NETWORK ARCHITECTURE with LINEAR**"
      ],
      "metadata": {
        "id": "t0stjPwjxf4Q"
      }
    },
    {
      "cell_type": "code",
      "source": [
        "#using Relu,linear Activation function defining neural network architecture\n",
        "model = Sequential()\n",
        "model.add(Dense(10, input_dim=4, activation='relu'))\n",
        "model.add(Dense(8, activation='linear'))\n",
        "model.add(Dense(3, activation='softmax'))"
      ],
      "metadata": {
        "id": "m9SooqGKwKEa"
      },
      "execution_count": null,
      "outputs": []
    },
    {
      "cell_type": "code",
      "source": [
        "# compiling the model\n",
        "model.compile(loss='categorical_crossentropy', optimizer='adam', metrics=['accuracy'])\n",
        "# training the model\n",
        "model.fit(X_train, y_train, epochs=50, batch_size=10)\n",
        "# evaluating the model on the testing set\n",
        "loss, accuracy2 = model.evaluate(X_test, y_test)"
      ],
      "metadata": {
        "id": "aO8-D3wCwTM2"
      },
      "execution_count": null,
      "outputs": []
    },
    {
      "cell_type": "code",
      "source": [
        "# print the accuracy\n",
        "print('Accuracy: ', accuracy2)"
      ],
      "metadata": {
        "colab": {
          "base_uri": "https://localhost:8080/"
        },
        "id": "xtR5Is-ZwfQD",
        "outputId": "1d5f024c-1744-468f-94ca-5fd6fc2bb9b3"
      },
      "execution_count": null,
      "outputs": [
        {
          "output_type": "stream",
          "name": "stdout",
          "text": [
            "Accuracy:  0.9111111164093018\n"
          ]
        }
      ]
    },
    {
      "cell_type": "code",
      "source": [
        "print('ACCURACY WITH SIGMOID:', accuracy , ', ACCURACY WITH TANH:', accuracy1 , ', ACCURACY WITH LINEAR:', accuracy2)"
      ],
      "metadata": {
        "colab": {
          "base_uri": "https://localhost:8080/"
        },
        "id": "yjdzPaSr5CXc",
        "outputId": "f65f846d-9872-47f8-e64c-64caf140b68f"
      },
      "execution_count": null,
      "outputs": [
        {
          "output_type": "stream",
          "name": "stdout",
          "text": [
            "ACCURACY WITH SIGMOID: 0.644444465637207 , ACCURACY WITH TANH: 0.9777777791023254 , ACCURACY WITH LINEAR: 0.9111111164093018\n"
          ]
        }
      ]
    }
  ]
}